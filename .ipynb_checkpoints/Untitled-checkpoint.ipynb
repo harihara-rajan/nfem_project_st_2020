{
 "cells": [
  {
   "cell_type": "markdown",
   "metadata": {},
   "source": []
  },
  {
   "cell_type": "markdown",
   "metadata": {},
   "source": [
    "### Mesh Refinement Factor : ratio of element length at outer to inner radius "
   ]
  },
  {
   "cell_type": "code",
   "execution_count": 86,
   "metadata": {},
   "outputs": [
    {
     "name": "stdout",
     "output_type": "stream",
     "text": [
      "1.080059738892306\n",
      "3.450495419885106\n",
      "11\n"
     ]
    }
   ],
   "source": [
    "a = 50 #inner radius \n",
    "b = 100 # outer radius \n",
    "num_ele = 10# num of elements \n",
    "\n",
    "\n",
    "##### Mesh Refinement Factor ######\n",
    "mrf = 2\n",
    "\n",
    "q = mrf**(1/(num_ele - 1))\n",
    "print(q)\n",
    "dr=(b-a)*((1-q)/(1-mrf*q))\n",
    "print(dr)\n",
    "rnode = a\n",
    "rnodes = [a]\n",
    "\n",
    "for i in range(num_ele):\n",
    "    rnode = rnode + dr \n",
    "    rnodes.append(rnode)\n",
    "    dr = dr * q\n",
    "print(len(rnodes)) # for n elements , we will have n+1 nodes"
   ]
  },
  {
   "cell_type": "code",
   "execution_count": 87,
   "metadata": {},
   "outputs": [],
   "source": [
    "### calculating Jacobian Matrix for each element ###\n",
    "import numpy as np \n",
    "node_points = np.array(rnodes)\n",
    "\n",
    "der_N = np.array([-0.5,0.5])\n",
    "J = []\n",
    "\n",
    "for i in range(num_ele):\n",
    "    r2 = rnodes[i+1] \n",
    "    r1 = rnodes[i]\n",
    "    J.append((r2 - r1)/(2))\n",
    "    \n",
    "B = np.zeros((2,2))\n"
   ]
  },
  {
   "cell_type": "code",
   "execution_count": null,
   "metadata": {},
   "outputs": [],
   "source": []
  },
  {
   "cell_type": "code",
   "execution_count": null,
   "metadata": {},
   "outputs": [],
   "source": []
  },
  {
   "cell_type": "code",
   "execution_count": null,
   "metadata": {},
   "outputs": [],
   "source": [
    "\n",
    "\n",
    "\n",
    "\n",
    "\n"
   ]
  },
  {
   "cell_type": "code",
   "execution_count": null,
   "metadata": {},
   "outputs": [],
   "source": []
  },
  {
   "cell_type": "code",
   "execution_count": null,
   "metadata": {},
   "outputs": [],
   "source": []
  },
  {
   "cell_type": "code",
   "execution_count": null,
   "metadata": {},
   "outputs": [],
   "source": []
  }
 ],
 "metadata": {
  "kernelspec": {
   "display_name": "Python 3",
   "language": "python",
   "name": "python3"
  },
  "language_info": {
   "codemirror_mode": {
    "name": "ipython",
    "version": 3
   },
   "file_extension": ".py",
   "mimetype": "text/x-python",
   "name": "python",
   "nbconvert_exporter": "python",
   "pygments_lexer": "ipython3",
   "version": "3.7.6"
  }
 },
 "nbformat": 4,
 "nbformat_minor": 4
}
